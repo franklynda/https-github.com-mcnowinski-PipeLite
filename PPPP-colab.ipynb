{
  "cells": [
    {
      "cell_type": "markdown",
      "metadata": {
        "id": "z8x373-Xb0cC"
      },
      "source": [
        "PPPP: COLAB VERSION\n",
        "\n",
        "\n",
        "---\n",
        "\n",
        "This notebook shows how to run the three functions I made to condense the important steps from the given class notebooks.\n",
        "\n",
        "The goal is to abstract as much behind-the-scenes functionality as possible to make the image processing pipeline simple and easy to run\n",
        "\n",
        "**The only configuration you must set is your astrometry.net API key. Set this in the /src/content/pipeline/config/dconf_dah.txt file**\n",
        "\n",
        "Besides that, this does not require any setup or configurations in any other files, though default path values are set in setup.py. It is optional to set these in setup.py, as you can also set all paths from function calls alone."
      ]
    },
    {
      "cell_type": "code",
      "source": [
        "# Clone PPPP and move to the working directory of Colab\n",
        "! git clone --recurse-submodules https://github.com/jonahdf/PPPP.git\n",
        "! mv  -v ./PPPP/src/* .\n",
        "\n",
        "# Install missing dependencies\n",
        "!pip install darepype\n",
        "!pip install drizzle"
      ],
      "metadata": {
        "id": "N9ZIz53nb6QI"
      },
      "execution_count": null,
      "outputs": []
    },
    {
      "cell_type": "code",
      "execution_count": null,
      "metadata": {
        "id": "59eSiABub0cT"
      },
      "outputs": [],
      "source": [
        "from image_math import batch_process\n",
        "from setup import *\n",
        "from pipeline import run_pipeline\n",
        "from image_combine import drizzle"
      ]
    },
    {
      "cell_type": "code",
      "source": [
        "# Import your drive as a filepath for Colab\n",
        "from google.colab import drive\n",
        "drive.mount('/content/drive')\n",
        "\n",
        "# Now you can use your drive in your filepath"
      ],
      "metadata": {
        "id": "WF8VkGUvb2MY"
      },
      "execution_count": null,
      "outputs": []
    },
    {
      "cell_type": "code",
      "execution_count": 8,
      "metadata": {
        "id": "HgRYypiZb0cV"
      },
      "outputs": [],
      "source": [
        "# Set path inputs\n",
        "out = '/content/drive/MyDrive/Astrophotography/output'"
      ]
    },
    {
      "cell_type": "code",
      "execution_count": null,
      "metadata": {
        "id": "upe0T0rMb0cX"
      },
      "outputs": [],
      "source": [
        "\"\"\"\n",
        "Batch_process\n",
        "    Batch process HDR images.\n",
        "    Inputs:\n",
        "        datapaths (optional list str): list of paths to data files (default: datapath from input.py)\n",
        "        outfolder (optional str): path to output folder (default: outpath from input.py)\n",
        "        darkfolder (optional str): path to dark folder (default: darkpath from input.py)\n",
        "        flatfolder (optional str): path to flat folder (default: flatpath from input.py)\n",
        "        biasfolder (optional str): path to bias folder (default: biaspath from input.py)\n",
        "    Outputs:\n",
        "        Saves HDR images to output path.\n",
        "\"\"\" \n",
        "darks = '/Users/jonahdf/Local Documents/Astro/M81 1:20/Darks'\n",
        "flats = '/Users/jonahdf/Local Documents/Astro/M81 1:20/Flats'\n",
        "bias = '/Users/jonahdf/Local Documents/Astro/M81 1:20/Bias'\n",
        "infolders = ['/Users/jonahdf/Local Documents/Astro/M81 1:20/Images/g-test', '/Users/jonahdf/Local Documents/Astro/M81 1:20/Images/r-test', '/Users/jonahdf/Local Documents/Astro/M81 1:20/Images/i-test']\n",
        "batch_process(datapaths = infolders, outfolder = out, darkfolder = darks, flatfolder = flats, biasfolder = bias)"
      ]
    },
    {
      "cell_type": "code",
      "execution_count": null,
      "metadata": {
        "id": "Ltb09xs3b0cY"
      },
      "outputs": [],
      "source": [
        "\"\"\"\n",
        "run_pipeline:\n",
        "    Runs the pipeline with the hotpix and astrometry steps\n",
        "    on all the files in the directory.\n",
        "\n",
        "    Inputs:\n",
        "    folder (str): The folder containing the files to be processed. (Default: outpath from setup.py)\n",
        "    Note: Only HDR images will be processed by the pipeline\n",
        "\n",
        "    Outputs:\n",
        "    Saves HPX and WPS files in the outpath.\n",
        "\"\"\"\n",
        "run_pipeline(folder = out)"
      ]
    },
    {
      "cell_type": "code",
      "execution_count": null,
      "metadata": {
        "id": "w7u3F8iMb0ca"
      },
      "outputs": [],
      "source": [
        "\"\"\"\n",
        "drizzle:\n",
        "    Drizzles all WCS images in the output folder with given filters\n",
        "    inputs: \n",
        "        - filter (optional lst str): list of filter strings to be drizzled. Will combine all images containing each filter into a single image.\n",
        "        If not specified, will combine all images in the input folder\n",
        "        - infolder (str): path to folder containing images to stack (default: outpath set in setup.py)\n",
        "        Note: Infolder is set to outpath by default so it can take the output of the previous steps\n",
        "        - outfolder (str): path to output folder (default: outpath set in setup.py)\n",
        "    outputs:\n",
        "        - Saves drizzled images to outpath\n",
        "    example:\n",
        "        drizzle(filter=['g-band','i-band'], infolder = out, outfolder = out) drizzles all images containing the string \"g-band into their respective files\n",
        "\"\"\"\n",
        "drizzle(filter = ['g-band, i-band'], infolder = out, outfolder = out)"
      ]
    }
  ],
  "metadata": {
    "interpreter": {
      "hash": "b0fa6594d8f4cbf19f97940f81e996739fb7646882a419484c72d19e05852a7e"
    },
    "kernelspec": {
      "display_name": "Python 3.9.9 64-bit",
      "language": "python",
      "name": "python3"
    },
    "language_info": {
      "codemirror_mode": {
        "name": "ipython",
        "version": 3
      },
      "file_extension": ".py",
      "mimetype": "text/x-python",
      "name": "python",
      "nbconvert_exporter": "python",
      "pygments_lexer": "ipython3",
      "version": "3.9.9"
    },
    "orig_nbformat": 4,
    "colab": {
      "name": "main.ipynb",
      "provenance": []
    }
  },
  "nbformat": 4,
  "nbformat_minor": 0
}